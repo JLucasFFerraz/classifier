{
 "cells": [
  {
   "cell_type": "code",
   "execution_count": 14,
   "metadata": {},
   "outputs": [
    {
     "name": "stdout",
     "output_type": "stream",
     "text": [
      "/home/lferraz/lentideep-lucas\n"
     ]
    }
   ],
   "source": [
    "import pandas as pd\n",
    "import os\n",
    "import numpy as np\n",
    "\n",
    "print(os.getcwd())\n",
    "os.chdir(\"/home/lferraz/lentideep-lucas\")"
   ]
  },
  {
   "cell_type": "markdown",
   "metadata": {},
   "source": [
    "### Load original csv"
   ]
  },
  {
   "cell_type": "code",
   "execution_count": 15,
   "metadata": {},
   "outputs": [
    {
     "name": "stderr",
     "output_type": "stream",
     "text": [
      "/tmp/ipykernel_2194361/1043983093.py:2: DtypeWarning: Columns (0,1,3,4,5) have mixed types. Specify dtype option on import or set low_memory=False.\n",
      "  df = pd.read_csv('./datasets/aav_packaging_all.csv', header=None, skiprows=6)\n"
     ]
    }
   ],
   "source": [
    "## Ignores the first 6 lines\n",
    "df = pd.read_csv('./datasets/aav_packaging_all.csv', header=None, skiprows=6)\n",
    "df.columns = df.iloc[0]\n",
    "df = df[1:]  \n",
    "df[\"count_average_plasmid_CMV\"] = df.iloc[:, 11:14].mean(axis=1)\n",
    "df[\"count_average_virus_CMV\"] = df.iloc[:, 14:20].mean(axis=1)\n",
    "df[\"count_average_plasmid_Rep\"] = df.iloc[:, 20:25].mean(axis=1)\n",
    "df[\"count_average_virus_Rep\"] = df.iloc[:, 25:31].mean(axis=1)\n",
    "\n",
    "df = df.drop(df.columns[11:31],axis = 1)\n",
    "  "
   ]
  },
  {
   "cell_type": "code",
   "execution_count": 16,
   "metadata": {},
   "outputs": [
    {
     "name": "stdout",
     "output_type": "stream",
     "text": [
      "Index(['abs_pos', 'tile_num', 'aa', 'is_wt_aa', 'is_wt_codon', 'wt_bc',\n",
      "       'lib_type', 'enzyme', 'codon', 'aa-codon', 'barcode',\n",
      "       'count_average_plasmid_CMV', 'count_average_virus_CMV',\n",
      "       'count_average_plasmid_Rep', 'count_average_virus_Rep'],\n",
      "      dtype='object', name=0)\n"
     ]
    }
   ],
   "source": [
    "print(df.columns)"
   ]
  },
  {
   "cell_type": "markdown",
   "metadata": {},
   "source": [
    "### Save generated csv"
   ]
  },
  {
   "cell_type": "code",
   "execution_count": 17,
   "metadata": {},
   "outputs": [],
   "source": [
    "df.to_csv(\"./datasets/1st_order_AAVcapsid_CMV-Rep_basis.csv\", index=False)"
   ]
  },
  {
   "cell_type": "markdown",
   "metadata": {},
   "source": [
    "### Adding new columns"
   ]
  },
  {
   "cell_type": "markdown",
   "metadata": {},
   "source": [
    "Add a 1 new column (mutant) before column abs position and generate labels to identify individual mutants (XXX_X_Y_A_CCC_ZZZ)\n",
    "\n"
   ]
  },
  {
   "cell_type": "code",
   "execution_count": 18,
   "metadata": {},
   "outputs": [
    {
     "name": "stdout",
     "output_type": "stream",
     "text": [
      "Number of rows with 'guide' in the label: 714\n",
      "Number of rows with 'MTT' in the label: 206050\n",
      "Number of rows with 'WT1' in the label: 0\n",
      "Number of rows with 'WT2' in the label: 404\n",
      "1     001_0_sub_*_TAA_MTT\n",
      "2     001_0_sub_*_TAA_MTT\n",
      "3     001_0_sub_*_TAG_MTT\n",
      "4     001_0_sub_*_TAG_MTT\n",
      "5     001_0_sub_*_TGA_MTT\n",
      "6     001_0_sub_*_TGA_MTT\n",
      "7     001_0_del_-_---_MTT\n",
      "8     001_0_del_-_---_MTT\n",
      "9     001_0_del_-_---_MTT\n",
      "10    001_0_del_-_---_MTT\n",
      "11    001_0_sub_A_GCA_MTT\n",
      "12    001_0_sub_A_GCA_MTT\n",
      "13    001_0_sub_A_GCC_MTT\n",
      "14    001_0_sub_A_GCC_MTT\n",
      "15    001_0_sub_A_GCG_MTT\n",
      "16    001_0_sub_A_GCG_MTT\n",
      "17    001_0_sub_A_GCT_MTT\n",
      "18    001_0_sub_A_GCT_MTT\n",
      "19    001_0_sub_C_TGC_MTT\n",
      "20    001_0_sub_C_TGC_MTT\n",
      "Name: label, dtype: object\n"
     ]
    }
   ],
   "source": [
    "def generate_label(row):\n",
    "    if pd.isna(row['barcode']):\n",
    "        return 'guide'\n",
    "    is_wt_codon = int(row['is_wt_codon'])\n",
    "    is_wt_aa = int(row['is_wt_aa'])\n",
    "    if is_wt_aa == 1 and is_wt_codon == 1:\n",
    "        wt_code = \"WT2\"\n",
    "    elif is_wt_aa == 1 and is_wt_codon == 0:\n",
    "        wt_code = \"WT1\"\n",
    "    else:\n",
    "        wt_code = \"MTT\"\n",
    "    row_name = str(row[\"abs_pos\"]).replace(\".\", \"_\")\n",
    "    \n",
    "    while len(row_name) < 5:\n",
    "        row_name = \"0\" + row_name\n",
    "    full_code = row_name+\"_\"+row[\"lib_type\"]+\"_\"+row[\"aa\"]+\"_\"+row[\"codon\"]+\"_\"+wt_code\n",
    "    \n",
    "    return full_code\n",
    "\n",
    "df['label'] = df.apply(generate_label, axis=1)\n",
    "counts = {}\n",
    "label_keywords = ['guide','MTT', 'WT1', 'WT2']\n",
    "\n",
    "for keyword in label_keywords:\n",
    "    counts[keyword] = df['label'].str.contains(keyword).sum()\n",
    "    print(f\"Number of rows with '{keyword}' in the label: {counts[keyword]}\")\n",
    "print(df[\"label\"][:20])"
   ]
  },
  {
   "cell_type": "markdown",
   "metadata": {},
   "source": [
    "Add 4 new columns (f_CMV_plasmid, f_CMV_virus, f_Rep_plasmid, f_Rep_virus ) to host the frequency of each mutant in the virus pool (fv) or the plasmid pool"
   ]
  },
  {
   "cell_type": "code",
   "execution_count": 19,
   "metadata": {},
   "outputs": [
    {
     "name": "stdout",
     "output_type": "stream",
     "text": [
      "0 abs_pos tile_num aa is_wt_aa is_wt_codon wt_bc lib_type enzyme codon  \\\n",
      "1     1.0      0.0  *        0           0     0      sub   bbsi   TAA   \n",
      "\n",
      "0 aa-codon               barcode  count_average_plasmid_CMV  \\\n",
      "1    *-TAA  CACTGTCACACACTGACACT                 563.333333   \n",
      "\n",
      "0  count_average_virus_CMV  count_average_plasmid_Rep  \\\n",
      "1               215.333333                     494.75   \n",
      "\n",
      "0  count_average_virus_Rep                label  f_CMV_plasmid  f_CMV_virus  \\\n",
      "1                    272.4  001_0_sub_*_TAA_MTT       0.000013     0.000007   \n",
      "\n",
      "0  f_Rep_plasmid  f_Rep_virus  \n",
      "1       0.000011     0.000007  \n"
     ]
    }
   ],
   "source": [
    "\n",
    "sum_CMV_plasmid = df['count_average_plasmid_CMV'].sum()\n",
    "sum_CMV_virus = df['count_average_virus_CMV'].sum()\n",
    "sum_Rep_plasmid = df['count_average_plasmid_Rep'].sum()\n",
    "sum_Rep_virus = df['count_average_virus_Rep'].sum()\n",
    "\n",
    "def calculate_frequency(row, *args):\n",
    "    return row[args[0]]/args[1]\n",
    "\n",
    "df[\"f_CMV_plasmid\"] = df.apply(calculate_frequency, axis=1, args=['count_average_plasmid_CMV', sum_CMV_plasmid])\n",
    "df[\"f_CMV_virus\"] = df.apply(calculate_frequency, axis=1, args=['count_average_virus_CMV', sum_CMV_virus])\n",
    "df[\"f_Rep_plasmid\"] = df.apply(calculate_frequency, axis=1, args=['count_average_plasmid_Rep', sum_Rep_plasmid ])\n",
    "df[\"f_Rep_virus\"] = df.apply(calculate_frequency, axis=1, args=['count_average_virus_Rep', sum_Rep_virus])\n",
    "\n",
    "print(df[:1])"
   ]
  },
  {
   "cell_type": "markdown",
   "metadata": {},
   "source": [
    "Add 2 new columns (s_CMV,  s_Rep) to host the selection of each mutant in the virus pool"
   ]
  },
  {
   "cell_type": "code",
   "execution_count": 20,
   "metadata": {},
   "outputs": [
    {
     "name": "stdout",
     "output_type": "stream",
     "text": [
      "0 abs_pos tile_num aa is_wt_aa is_wt_codon wt_bc lib_type enzyme codon  \\\n",
      "1     1.0      0.0  *        0           0     0      sub   bbsi   TAA   \n",
      "\n",
      "0 aa-codon  ... count_average_virus_CMV  count_average_plasmid_Rep  \\\n",
      "1    *-TAA  ...              215.333333                     494.75   \n",
      "\n",
      "0  count_average_virus_Rep                label  f_CMV_plasmid f_CMV_virus  \\\n",
      "1                    272.4  001_0_sub_*_TAA_MTT       0.000013    0.000007   \n",
      "\n",
      "0  f_Rep_plasmid  f_Rep_virus     s_CMV     s_Rep  \n",
      "1       0.000011     0.000007  0.521311  0.700489  \n",
      "\n",
      "[1 rows x 22 columns]\n"
     ]
    }
   ],
   "source": [
    "def calculate_selection(row, *args):\n",
    "    return row[args[0]]/row[args[1]]\n",
    "\n",
    "df[\"s_CMV\"] = df.apply(calculate_selection, axis=1, args=[\"f_CMV_virus\", \"f_CMV_plasmid\"])\n",
    "df[\"s_Rep\"] = df.apply(calculate_selection, axis=1, args=[\"f_Rep_virus\", \"f_Rep_plasmid\"])\n",
    "\n",
    "print(df[:1])\n",
    "    "
   ]
  },
  {
   "cell_type": "code",
   "execution_count": 21,
   "metadata": {},
   "outputs": [
    {
     "name": "stdout",
     "output_type": "stream",
     "text": [
      "404\n",
      "2.8139214807521746\n",
      "3.167028086740208\n",
      "0 abs_pos tile_num aa is_wt_aa is_wt_codon wt_bc lib_type enzyme codon  \\\n",
      "1     1.0      0.0  *        0           0     0      sub   bbsi   TAA   \n",
      "2     1.0      0.0  *        0           0     0      sub   bbsi   TAA   \n",
      "3     1.0      0.0  *        0           0     0      sub   bbsi   TAG   \n",
      "4     1.0      0.0  *        0           0     0      sub   bbsi   TAG   \n",
      "5     1.0      0.0  *        0           0     0      sub   bbsi   TGA   \n",
      "\n",
      "0 aa-codon  ... count_average_virus_Rep                label  f_CMV_plasmid  \\\n",
      "1    *-TAA  ...                  272.40  001_0_sub_*_TAA_MTT       0.000013   \n",
      "2    *-TAA  ...                  471.75  001_0_sub_*_TAA_MTT       0.000014   \n",
      "3    *-TAG  ...                   41.00  001_0_sub_*_TAG_MTT       0.000002   \n",
      "4    *-TAG  ...                   87.50  001_0_sub_*_TAG_MTT       0.000003   \n",
      "5    *-TGA  ...                  537.25  001_0_sub_*_TGA_MTT       0.000023   \n",
      "\n",
      "0  f_CMV_virus  f_Rep_plasmid f_Rep_virus     s_CMV     s_Rep  sNorm_CMV  \\\n",
      "1     0.000007       0.000011    0.000007  0.521311  0.700489   0.185261   \n",
      "2     0.000006       0.000012    0.000013  0.441718  1.056681   0.156976   \n",
      "3     0.000005       0.000002    0.000001  2.722455  0.498374   0.967495   \n",
      "4     0.000002       0.000002    0.000002  0.572870  1.063604   0.203584   \n",
      "5     0.000010       0.000021    0.000015  0.417610  0.708320   0.148408   \n",
      "\n",
      "0  sNorm_Rep  \n",
      "1   0.221182  \n",
      "2   0.333651  \n",
      "3   0.157363  \n",
      "4   0.335837  \n",
      "5   0.223654  \n",
      "\n",
      "[5 rows x 24 columns]\n"
     ]
    }
   ],
   "source": [
    "def calculate_normalized_selection(row, *args):\n",
    "    return row[args[0]]/args[1]\n",
    "\n",
    "\n",
    "only_wt2 = df[df['label'].str.contains('WT2')]\n",
    "print(len(only_wt2))\n",
    "swt_CMV = only_wt2[\"s_CMV\"].median()\n",
    "swt_Rep = only_wt2[\"s_Rep\"].median()\n",
    "print(swt_CMV)\n",
    "print(swt_Rep)\n",
    "df[\"sNorm_CMV\"] = df.apply(calculate_normalized_selection, axis=1, args=[\"s_CMV\", swt_CMV])\n",
    "df[\"sNorm_Rep\"] = df.apply(calculate_normalized_selection, axis=1, args=[\"s_Rep\", swt_Rep])\n",
    "\n",
    "print(df[:5])"
   ]
  },
  {
   "cell_type": "markdown",
   "metadata": {},
   "source": [
    "Add 1 new column (viability) as label for viability (binary), defined based on a normalized selection value cutoff (e.g.≥1); alternatively, use the full scale for fitness quantification"
   ]
  },
  {
   "cell_type": "code",
   "execution_count": 22,
   "metadata": {},
   "outputs": [
    {
     "name": "stdout",
     "output_type": "stream",
     "text": [
      "0 abs_pos tile_num aa is_wt_aa is_wt_codon wt_bc lib_type enzyme codon  \\\n",
      "1     1.0      0.0  *        0           0     0      sub   bbsi   TAA   \n",
      "2     1.0      0.0  *        0           0     0      sub   bbsi   TAA   \n",
      "3     1.0      0.0  *        0           0     0      sub   bbsi   TAG   \n",
      "\n",
      "0 aa-codon  ... f_CMV_plasmid  f_CMV_virus  f_Rep_plasmid  f_Rep_virus  \\\n",
      "1    *-TAA  ...      0.000013     0.000007       0.000011     0.000007   \n",
      "2    *-TAA  ...      0.000014     0.000006       0.000012     0.000013   \n",
      "3    *-TAG  ...      0.000002     0.000005       0.000002     0.000001   \n",
      "\n",
      "0     s_CMV     s_Rep  sNorm_CMV  sNorm_Rep  viability_CMV  viability_Rep  \n",
      "1  0.521311  0.700489   0.185261   0.221182              0              0  \n",
      "2  0.441718  1.056681   0.156976   0.333651              0              0  \n",
      "3  2.722455  0.498374   0.967495   0.157363              0              0  \n",
      "\n",
      "[3 rows x 26 columns]\n"
     ]
    }
   ],
   "source": [
    "def calculate_viability_CMV(row):\n",
    "    return int(row[\"sNorm_CMV\"] >= 1)\n",
    "\n",
    "def calculate_viability_Rep(row):\n",
    "    return int(row[\"sNorm_Rep\"] >= 1)\n",
    "\n",
    "df[\"viability_CMV\"] = df.apply(calculate_viability_CMV, axis=1)\n",
    "df[\"viability_Rep\"] = df.apply(calculate_viability_Rep, axis=1)\n",
    "print(df[:3])"
   ]
  },
  {
   "cell_type": "markdown",
   "metadata": {},
   "source": [
    "Get original sequence"
   ]
  },
  {
   "cell_type": "code",
   "execution_count": 23,
   "metadata": {},
   "outputs": [
    {
     "name": "stdout",
     "output_type": "stream",
     "text": [
      "MAADGYLPDWLEDTLSEGIRQWWKLKPGPPPPKPAERHKDDSRGLVLPGYKYLGPFNGLDKGEPVNEADAAALEHDKAYDRQLDSGDNPYLKYNHADAEFQERLKEDTSFGGNLGRAVFQAKKRVLEPLGLVEEPVKTAPGKKRPVEHSPVEPDSSSGTGKAGQQPARKRLNFGQTGDADSVPDPQPLGQPPAAPSGLGTNTMATGSGAPMADNNEGADGVGNSSGNWHCDSTWMGDRVITTSTRTWALPTYNNHLYKQISSQSGASNDNHYFGYSTPWGYFDFNRFHCHFSPRDWQRLINNNWGFRPKRLNFKLFNIQVKEVTQNDGTTTIANNLTSTVQVFTDSEYQLPYVLGSAHQGCLPPFPADVFMVPQYGYLTLNNGSQAVGRSSFYCLEYFPSQMLRTGNNFTFSYTFEDVPFHSSYAHSQSLDRLMNPLIDQYLYYLSRTNTPSGTTTQSRLQFSQAGASDIRDQSRNWLPGPCYRQQRVSKTSADNNNSEYSWTGATKYHLNGRDSLVNPGPAMASHKDDEEKFFPQSGVLIFGKQGSEKTNVDIEKVMITDEEEIRTTNPVATEQYGSVSTNLQRGNRQAATADVNTQGVLPGMVWQDRDVYLQGPIWAKIPHTDGHFHPSPLMGGFGLKHPPPQILIKNTPVPANPSTTFSAAKFASFITQYSTGQVSVEIEWELQKENSKRWNPEIQYTSNYNKSVNVDFTVDTNGVYSEPRPIGTRYLTRNL\n"
     ]
    }
   ],
   "source": [
    "\n",
    "double_wt_df = df.query(\"(is_wt_aa == '1' or is_wt_aa == 1) and (is_wt_codon == '1' or is_wt_codon == 1)\")\n",
    "\n",
    "seen_pos = []\n",
    "seq = \"\"\n",
    "\n",
    "for index, row in double_wt_df.iterrows():\n",
    "    pos = row[\"abs_pos\"]\n",
    "    if not float(pos).is_integer():\n",
    "        print(pos)\n",
    "    if not pos in seen_pos:\n",
    "        seq += row[\"aa\"]\n",
    "        seen_pos.append(pos)\n",
    "print(seq)\n",
    "#print(\"\".join(original_sequence)[::-1])"
   ]
  },
  {
   "cell_type": "markdown",
   "metadata": {},
   "source": [
    "Add 1 new column (mutant_sequence) and use the rules in the labels (or respective columns ) to generate the full sequence that shall be placed in a new column"
   ]
  },
  {
   "cell_type": "code",
   "execution_count": 24,
   "metadata": {},
   "outputs": [
    {
     "name": "stdout",
     "output_type": "stream",
     "text": [
      "INSERTION\n",
      "012345\n",
      "XMAADGYLPDWLEDTLSEGIRQWWKLKPGPPPPKPAERHKDDSRGLVLPGYKYLGPFNGLDKGEPVNEADAAALEHDKAYDRQLDSGDNPYLKYNHADAEFQERLKEDTSFGGNLGRAVFQAKKRVLEPLGLVEEPVKTAPGKKRPVEHSPVEPDSSSGTGKAGQQPARKRLNFGQTGDADSVPDPQPLGQPPAAPSGLGTNTMATGSGAPMADNNEGADGVGNSSGNWHCDSTWMGDRVITTSTRTWALPTYNNHLYKQISSQSGASNDNHYFGYSTPWGYFDFNRFHCHFSPRDWQRLINNNWGFRPKRLNFKLFNIQVKEVTQNDGTTTIANNLTSTVQVFTDSEYQLPYVLGSAHQGCLPPFPADVFMVPQYGYLTLNNGSQAVGRSSFYCLEYFPSQMLRTGNNFTFSYTFEDVPFHSSYAHSQSLDRLMNPLIDQYLYYLSRTNTPSGTTTQSRLQFSQAGASDIRDQSRNWLPGPCYRQQRVSKTSADNNNSEYSWTGATKYHLNGRDSLVNPGPAMASHKDDEEKFFPQSGVLIFGKQGSEKTNVDIEKVMITDEEEIRTTNPVATEQYGSVSTNLQRGNRQAATADVNTQGVLPGMVWQDRDVYLQGPIWAKIPHTDGHFHPSPLMGGFGLKHPPPQILIKNTPVPANPSTTFSAAKFASFITQYSTGQVSVEIEWELQKENSKRWNPEIQYTSNYNKSVNVDFTVDTNGVYSEPRPIGTRYLTRNL\n",
      "012345\n",
      "MAAXDGYLPDWLEDTLSEGIRQWWKLKPGPPPPKPAERHKDDSRGLVLPGYKYLGPFNGLDKGEPVNEADAAALEHDKAYDRQLDSGDNPYLKYNHADAEFQERLKEDTSFGGNLGRAVFQAKKRVLEPLGLVEEPVKTAPGKKRPVEHSPVEPDSSSGTGKAGQQPARKRLNFGQTGDADSVPDPQPLGQPPAAPSGLGTNTMATGSGAPMADNNEGADGVGNSSGNWHCDSTWMGDRVITTSTRTWALPTYNNHLYKQISSQSGASNDNHYFGYSTPWGYFDFNRFHCHFSPRDWQRLINNNWGFRPKRLNFKLFNIQVKEVTQNDGTTTIANNLTSTVQVFTDSEYQLPYVLGSAHQGCLPPFPADVFMVPQYGYLTLNNGSQAVGRSSFYCLEYFPSQMLRTGNNFTFSYTFEDVPFHSSYAHSQSLDRLMNPLIDQYLYYLSRTNTPSGTTTQSRLQFSQAGASDIRDQSRNWLPGPCYRQQRVSKTSADNNNSEYSWTGATKYHLNGRDSLVNPGPAMASHKDDEEKFFPQSGVLIFGKQGSEKTNVDIEKVMITDEEEIRTTNPVATEQYGSVSTNLQRGNRQAATADVNTQGVLPGMVWQDRDVYLQGPIWAKIPHTDGHFHPSPLMGGFGLKHPPPQILIKNTPVPANPSTTFSAAKFASFITQYSTGQVSVEIEWELQKENSKRWNPEIQYTSNYNKSVNVDFTVDTNGVYSEPRPIGTRYLTRNL\n",
      "012345\n",
      "MAADGXYLPDWLEDTLSEGIRQWWKLKPGPPPPKPAERHKDDSRGLVLPGYKYLGPFNGLDKGEPVNEADAAALEHDKAYDRQLDSGDNPYLKYNHADAEFQERLKEDTSFGGNLGRAVFQAKKRVLEPLGLVEEPVKTAPGKKRPVEHSPVEPDSSSGTGKAGQQPARKRLNFGQTGDADSVPDPQPLGQPPAAPSGLGTNTMATGSGAPMADNNEGADGVGNSSGNWHCDSTWMGDRVITTSTRTWALPTYNNHLYKQISSQSGASNDNHYFGYSTPWGYFDFNRFHCHFSPRDWQRLINNNWGFRPKRLNFKLFNIQVKEVTQNDGTTTIANNLTSTVQVFTDSEYQLPYVLGSAHQGCLPPFPADVFMVPQYGYLTLNNGSQAVGRSSFYCLEYFPSQMLRTGNNFTFSYTFEDVPFHSSYAHSQSLDRLMNPLIDQYLYYLSRTNTPSGTTTQSRLQFSQAGASDIRDQSRNWLPGPCYRQQRVSKTSADNNNSEYSWTGATKYHLNGRDSLVNPGPAMASHKDDEEKFFPQSGVLIFGKQGSEKTNVDIEKVMITDEEEIRTTNPVATEQYGSVSTNLQRGNRQAATADVNTQGVLPGMVWQDRDVYLQGPIWAKIPHTDGHFHPSPLMGGFGLKHPPPQILIKNTPVPANPSTTFSAAKFASFITQYSTGQVSVEIEWELQKENSKRWNPEIQYTSNYNKSVNVDFTVDTNGVYSEPRPIGTRYLTRNL\n",
      "\n",
      "DELETION\n",
      "012345\n",
      "AADGYLPDWLEDTLSEGIRQWWKLKPGPPPPKPAERHKDDSRGLVLPGYKYLGPFNGLDKGEPVNEADAAALEHDKAYDRQLDSGDNPYLKYNHADAEFQERLKEDTSFGGNLGRAVFQAKKRVLEPLGLVEEPVKTAPGKKRPVEHSPVEPDSSSGTGKAGQQPARKRLNFGQTGDADSVPDPQPLGQPPAAPSGLGTNTMATGSGAPMADNNEGADGVGNSSGNWHCDSTWMGDRVITTSTRTWALPTYNNHLYKQISSQSGASNDNHYFGYSTPWGYFDFNRFHCHFSPRDWQRLINNNWGFRPKRLNFKLFNIQVKEVTQNDGTTTIANNLTSTVQVFTDSEYQLPYVLGSAHQGCLPPFPADVFMVPQYGYLTLNNGSQAVGRSSFYCLEYFPSQMLRTGNNFTFSYTFEDVPFHSSYAHSQSLDRLMNPLIDQYLYYLSRTNTPSGTTTQSRLQFSQAGASDIRDQSRNWLPGPCYRQQRVSKTSADNNNSEYSWTGATKYHLNGRDSLVNPGPAMASHKDDEEKFFPQSGVLIFGKQGSEKTNVDIEKVMITDEEEIRTTNPVATEQYGSVSTNLQRGNRQAATADVNTQGVLPGMVWQDRDVYLQGPIWAKIPHTDGHFHPSPLMGGFGLKHPPPQILIKNTPVPANPSTTFSAAKFASFITQYSTGQVSVEIEWELQKENSKRWNPEIQYTSNYNKSVNVDFTVDTNGVYSEPRPIGTRYLTRNL\n",
      "012345\n",
      "MAAGYLPDWLEDTLSEGIRQWWKLKPGPPPPKPAERHKDDSRGLVLPGYKYLGPFNGLDKGEPVNEADAAALEHDKAYDRQLDSGDNPYLKYNHADAEFQERLKEDTSFGGNLGRAVFQAKKRVLEPLGLVEEPVKTAPGKKRPVEHSPVEPDSSSGTGKAGQQPARKRLNFGQTGDADSVPDPQPLGQPPAAPSGLGTNTMATGSGAPMADNNEGADGVGNSSGNWHCDSTWMGDRVITTSTRTWALPTYNNHLYKQISSQSGASNDNHYFGYSTPWGYFDFNRFHCHFSPRDWQRLINNNWGFRPKRLNFKLFNIQVKEVTQNDGTTTIANNLTSTVQVFTDSEYQLPYVLGSAHQGCLPPFPADVFMVPQYGYLTLNNGSQAVGRSSFYCLEYFPSQMLRTGNNFTFSYTFEDVPFHSSYAHSQSLDRLMNPLIDQYLYYLSRTNTPSGTTTQSRLQFSQAGASDIRDQSRNWLPGPCYRQQRVSKTSADNNNSEYSWTGATKYHLNGRDSLVNPGPAMASHKDDEEKFFPQSGVLIFGKQGSEKTNVDIEKVMITDEEEIRTTNPVATEQYGSVSTNLQRGNRQAATADVNTQGVLPGMVWQDRDVYLQGPIWAKIPHTDGHFHPSPLMGGFGLKHPPPQILIKNTPVPANPSTTFSAAKFASFITQYSTGQVSVEIEWELQKENSKRWNPEIQYTSNYNKSVNVDFTVDTNGVYSEPRPIGTRYLTRNL\n",
      "012345\n",
      "MAADGLPDWLEDTLSEGIRQWWKLKPGPPPPKPAERHKDDSRGLVLPGYKYLGPFNGLDKGEPVNEADAAALEHDKAYDRQLDSGDNPYLKYNHADAEFQERLKEDTSFGGNLGRAVFQAKKRVLEPLGLVEEPVKTAPGKKRPVEHSPVEPDSSSGTGKAGQQPARKRLNFGQTGDADSVPDPQPLGQPPAAPSGLGTNTMATGSGAPMADNNEGADGVGNSSGNWHCDSTWMGDRVITTSTRTWALPTYNNHLYKQISSQSGASNDNHYFGYSTPWGYFDFNRFHCHFSPRDWQRLINNNWGFRPKRLNFKLFNIQVKEVTQNDGTTTIANNLTSTVQVFTDSEYQLPYVLGSAHQGCLPPFPADVFMVPQYGYLTLNNGSQAVGRSSFYCLEYFPSQMLRTGNNFTFSYTFEDVPFHSSYAHSQSLDRLMNPLIDQYLYYLSRTNTPSGTTTQSRLQFSQAGASDIRDQSRNWLPGPCYRQQRVSKTSADNNNSEYSWTGATKYHLNGRDSLVNPGPAMASHKDDEEKFFPQSGVLIFGKQGSEKTNVDIEKVMITDEEEIRTTNPVATEQYGSVSTNLQRGNRQAATADVNTQGVLPGMVWQDRDVYLQGPIWAKIPHTDGHFHPSPLMGGFGLKHPPPQILIKNTPVPANPSTTFSAAKFASFITQYSTGQVSVEIEWELQKENSKRWNPEIQYTSNYNKSVNVDFTVDTNGVYSEPRPIGTRYLTRNL\n",
      "\n",
      "SUBSTITUTION\n",
      "012345\n",
      "XAADGYLPDWLEDTLSEGIRQWWKLKPGPPPPKPAERHKDDSRGLVLPGYKYLGPFNGLDKGEPVNEADAAALEHDKAYDRQLDSGDNPYLKYNHADAEFQERLKEDTSFGGNLGRAVFQAKKRVLEPLGLVEEPVKTAPGKKRPVEHSPVEPDSSSGTGKAGQQPARKRLNFGQTGDADSVPDPQPLGQPPAAPSGLGTNTMATGSGAPMADNNEGADGVGNSSGNWHCDSTWMGDRVITTSTRTWALPTYNNHLYKQISSQSGASNDNHYFGYSTPWGYFDFNRFHCHFSPRDWQRLINNNWGFRPKRLNFKLFNIQVKEVTQNDGTTTIANNLTSTVQVFTDSEYQLPYVLGSAHQGCLPPFPADVFMVPQYGYLTLNNGSQAVGRSSFYCLEYFPSQMLRTGNNFTFSYTFEDVPFHSSYAHSQSLDRLMNPLIDQYLYYLSRTNTPSGTTTQSRLQFSQAGASDIRDQSRNWLPGPCYRQQRVSKTSADNNNSEYSWTGATKYHLNGRDSLVNPGPAMASHKDDEEKFFPQSGVLIFGKQGSEKTNVDIEKVMITDEEEIRTTNPVATEQYGSVSTNLQRGNRQAATADVNTQGVLPGMVWQDRDVYLQGPIWAKIPHTDGHFHPSPLMGGFGLKHPPPQILIKNTPVPANPSTTFSAAKFASFITQYSTGQVSVEIEWELQKENSKRWNPEIQYTSNYNKSVNVDFTVDTNGVYSEPRPIGTRYLTRNL\n",
      "012345\n",
      "MAAXGYLPDWLEDTLSEGIRQWWKLKPGPPPPKPAERHKDDSRGLVLPGYKYLGPFNGLDKGEPVNEADAAALEHDKAYDRQLDSGDNPYLKYNHADAEFQERLKEDTSFGGNLGRAVFQAKKRVLEPLGLVEEPVKTAPGKKRPVEHSPVEPDSSSGTGKAGQQPARKRLNFGQTGDADSVPDPQPLGQPPAAPSGLGTNTMATGSGAPMADNNEGADGVGNSSGNWHCDSTWMGDRVITTSTRTWALPTYNNHLYKQISSQSGASNDNHYFGYSTPWGYFDFNRFHCHFSPRDWQRLINNNWGFRPKRLNFKLFNIQVKEVTQNDGTTTIANNLTSTVQVFTDSEYQLPYVLGSAHQGCLPPFPADVFMVPQYGYLTLNNGSQAVGRSSFYCLEYFPSQMLRTGNNFTFSYTFEDVPFHSSYAHSQSLDRLMNPLIDQYLYYLSRTNTPSGTTTQSRLQFSQAGASDIRDQSRNWLPGPCYRQQRVSKTSADNNNSEYSWTGATKYHLNGRDSLVNPGPAMASHKDDEEKFFPQSGVLIFGKQGSEKTNVDIEKVMITDEEEIRTTNPVATEQYGSVSTNLQRGNRQAATADVNTQGVLPGMVWQDRDVYLQGPIWAKIPHTDGHFHPSPLMGGFGLKHPPPQILIKNTPVPANPSTTFSAAKFASFITQYSTGQVSVEIEWELQKENSKRWNPEIQYTSNYNKSVNVDFTVDTNGVYSEPRPIGTRYLTRNL\n",
      "012345\n",
      "MAADGXLPDWLEDTLSEGIRQWWKLKPGPPPPKPAERHKDDSRGLVLPGYKYLGPFNGLDKGEPVNEADAAALEHDKAYDRQLDSGDNPYLKYNHADAEFQERLKEDTSFGGNLGRAVFQAKKRVLEPLGLVEEPVKTAPGKKRPVEHSPVEPDSSSGTGKAGQQPARKRLNFGQTGDADSVPDPQPLGQPPAAPSGLGTNTMATGSGAPMADNNEGADGVGNSSGNWHCDSTWMGDRVITTSTRTWALPTYNNHLYKQISSQSGASNDNHYFGYSTPWGYFDFNRFHCHFSPRDWQRLINNNWGFRPKRLNFKLFNIQVKEVTQNDGTTTIANNLTSTVQVFTDSEYQLPYVLGSAHQGCLPPFPADVFMVPQYGYLTLNNGSQAVGRSSFYCLEYFPSQMLRTGNNFTFSYTFEDVPFHSSYAHSQSLDRLMNPLIDQYLYYLSRTNTPSGTTTQSRLQFSQAGASDIRDQSRNWLPGPCYRQQRVSKTSADNNNSEYSWTGATKYHLNGRDSLVNPGPAMASHKDDEEKFFPQSGVLIFGKQGSEKTNVDIEKVMITDEEEIRTTNPVATEQYGSVSTNLQRGNRQAATADVNTQGVLPGMVWQDRDVYLQGPIWAKIPHTDGHFHPSPLMGGFGLKHPPPQILIKNTPVPANPSTTFSAAKFASFITQYSTGQVSVEIEWELQKENSKRWNPEIQYTSNYNKSVNVDFTVDTNGVYSEPRPIGTRYLTRNL\n",
      "\n"
     ]
    }
   ],
   "source": [
    "\n",
    "def insertion(aa, pos):\n",
    "    return seq[:pos] + aa + seq[pos:]\n",
    "def deletion(pos):\n",
    "    return seq[:pos]+seq[pos+1:]\n",
    "\n",
    "def substitution(aa, pos):\n",
    "    return seq[:pos] + aa + seq[pos+1:]\n",
    "\n",
    "print(\"INSERTION\")\n",
    "print(\"012345\")\n",
    "print(insertion(\"X\", 0))\n",
    "print(\"012345\")\n",
    "print(insertion(\"X\", 3))\n",
    "print(\"012345\")    \n",
    "print(insertion(\"X\", 5))\n",
    "print()\n",
    "\n",
    "print(\"DELETION\")\n",
    "print(\"012345\")\n",
    "print(deletion(0))\n",
    "print(\"012345\")\n",
    "print(deletion(3))\n",
    "print(\"012345\")    \n",
    "print(deletion(5))\n",
    "print()\n",
    "\n",
    "print(\"SUBSTITUTION\")\n",
    "print(\"012345\")\n",
    "print(substitution(\"X\", 0))\n",
    "print(\"012345\")\n",
    "print(substitution(\"X\", 3))\n",
    "print(\"012345\")    \n",
    "print(substitution(\"X\", 5))\n",
    "print()"
   ]
  },
  {
   "cell_type": "code",
   "execution_count": 25,
   "metadata": {},
   "outputs": [],
   "source": [
    "\n",
    "\n",
    "def reconstruct(row):\n",
    "    \n",
    "    label = row[\"label\"]\n",
    "    \n",
    "    if label != \"guide\":\n",
    "        pos, frac, operation, aa, codon, wt = label.split(\"_\")\n",
    "        pos = int(pos)\n",
    "        if operation == \"ins\":\n",
    "        \n",
    "            mutant_sequence = insertion(aa, pos)\n",
    "        elif operation == \"sub\":\n",
    "            mutant_sequence = substitution(aa, pos)\n",
    "        elif operation == \"del\":\n",
    "            mutant_sequence = deletion(pos)\n",
    "        return mutant_sequence\n",
    "\n",
    "df[\"sequence\"] = df.apply(reconstruct, axis=1)\n",
    "\n",
    "# 8894 has nan\n",
    "\n",
    "r = df.dropna(subset=['barcode'])\n",
    "\n",
    "\n",
    "#print(math.isnan(df[\"barcode\"][8894]))\n",
    "#print(df[:10][\"barcode\"])"
   ]
  },
  {
   "cell_type": "markdown",
   "metadata": {},
   "source": [
    "Make a new dataset where, for each mutant, we have the label (1st column), the sequence (2nd column) and the median viability\n"
   ]
  },
  {
   "cell_type": "code",
   "execution_count": 26,
   "metadata": {},
   "outputs": [
    {
     "name": "stdout",
     "output_type": "stream",
     "text": [
      "0                label                                           sequence  \\\n",
      "1  001_0_sub_*_TAA_MTT  M*ADGYLPDWLEDTLSEGIRQWWKLKPGPPPPKPAERHKDDSRGLV...   \n",
      "2  001_0_sub_*_TAA_MTT  M*ADGYLPDWLEDTLSEGIRQWWKLKPGPPPPKPAERHKDDSRGLV...   \n",
      "3  001_0_sub_*_TAG_MTT  M*ADGYLPDWLEDTLSEGIRQWWKLKPGPPPPKPAERHKDDSRGLV...   \n",
      "4  001_0_sub_*_TAG_MTT  M*ADGYLPDWLEDTLSEGIRQWWKLKPGPPPPKPAERHKDDSRGLV...   \n",
      "5  001_0_sub_*_TGA_MTT  M*ADGYLPDWLEDTLSEGIRQWWKLKPGPPPPKPAERHKDDSRGLV...   \n",
      "\n",
      "0  viability_CMV  viability_Rep  \n",
      "1              0              0  \n",
      "2              0              0  \n",
      "3              0              0  \n",
      "4              0              0  \n",
      "5              0              0  \n"
     ]
    }
   ],
   "source": [
    "df = df[[\"label\", \"sequence\", \"viability_CMV\", \"viability_Rep\"]]\n",
    "print(df[:5])\n",
    "\n",
    "\n",
    "df.to_csv(\"./outputs/reconstructed_sequences_viability_l.csv\", index=False)"
   ]
  }
 ],
 "metadata": {
  "kernelspec": {
   "display_name": "base",
   "language": "python",
   "name": "python3"
  },
  "language_info": {
   "codemirror_mode": {
    "name": "ipython",
    "version": 3
   },
   "file_extension": ".py",
   "mimetype": "text/x-python",
   "name": "python",
   "nbconvert_exporter": "python",
   "pygments_lexer": "ipython3",
   "version": "3.11.3"
  },
  "orig_nbformat": 4
 },
 "nbformat": 4,
 "nbformat_minor": 2
}
